{
 "cells": [
  {
   "cell_type": "markdown",
   "metadata": {
    "application/vnd.databricks.v1+cell": {
     "cellMetadata": {},
     "inputWidgets": {},
     "nuid": "db81ad22-d7c7-4e80-9058-fe0c216cd0d6",
     "showTitle": false,
     "title": ""
    }
   },
   "source": [
    "####\n",
    "1. Write data to delta lake (managed table)\n",
    "2. Write data to delta lake (external table)\n",
    "3. Read data from delta lake (Table)\n",
    "4. Read data from delta lake (File)\n"
   ]
  },
  {
   "cell_type": "code",
   "execution_count": 0,
   "metadata": {
    "application/vnd.databricks.v1+cell": {
     "cellMetadata": {
      "byteLimit": 2048000,
      "implicitDf": true,
      "rowLimit": 10000
     },
     "inputWidgets": {},
     "nuid": "62dd3560-28b8-4a3c-bccf-f2ef06f07fb3",
     "showTitle": false,
     "title": ""
    }
   },
   "outputs": [],
   "source": [
    "%sql\n",
    "CREATE DATABASE IF NOT EXISTS f1_demo\n",
    "LOCATION '/mnt/formula1ltedl/demo'"
   ]
  },
  {
   "cell_type": "code",
   "execution_count": 0,
   "metadata": {
    "application/vnd.databricks.v1+cell": {
     "cellMetadata": {
      "byteLimit": 2048000,
      "rowLimit": 10000
     },
     "inputWidgets": {},
     "nuid": "d3e3225e-a845-4630-b85f-8dfe2496869d",
     "showTitle": false,
     "title": ""
    }
   },
   "outputs": [],
   "source": [
    "result_df = spark.read.option(\"inferSchema\",  True).json(\"/mnt/formula1ltedl/raw/2021-03-28/results.json\")"
   ]
  },
  {
   "cell_type": "code",
   "execution_count": 0,
   "metadata": {
    "application/vnd.databricks.v1+cell": {
     "cellMetadata": {
      "byteLimit": 2048000,
      "rowLimit": 10000
     },
     "inputWidgets": {},
     "nuid": "5bc86fe6-bb80-4d76-9b35-a359d1091c8f",
     "showTitle": false,
     "title": ""
    }
   },
   "outputs": [],
   "source": [
    "result_df.write.format(\"delta\").mode(\"overwrite\").saveAsTable(\"f1_demo.results_managed\")"
   ]
  },
  {
   "cell_type": "code",
   "execution_count": 0,
   "metadata": {
    "application/vnd.databricks.v1+cell": {
     "cellMetadata": {
      "byteLimit": 2048000,
      "implicitDf": true,
      "rowLimit": 10000
     },
     "inputWidgets": {},
     "nuid": "2cc67395-2f7f-44c7-97ff-a22cc914991c",
     "showTitle": false,
     "title": ""
    },
    "jupyter": {
     "outputs_hidden": true
    }
   },
   "outputs": [],
   "source": [
    "%sql\n",
    "select * from f1_demo.results_managed"
   ]
  },
  {
   "cell_type": "code",
   "execution_count": 0,
   "metadata": {
    "application/vnd.databricks.v1+cell": {
     "cellMetadata": {
      "byteLimit": 2048000,
      "rowLimit": 10000
     },
     "inputWidgets": {},
     "nuid": "6cb0a9c0-7f8b-48a8-af8b-38c09e370309",
     "showTitle": false,
     "title": ""
    }
   },
   "outputs": [],
   "source": [
    "result_df.write.format(\"delta\").mode(\"overwrite\").save(\"/mnt/formula1ltedl/demo/results_externals\")"
   ]
  },
  {
   "cell_type": "code",
   "execution_count": 0,
   "metadata": {
    "application/vnd.databricks.v1+cell": {
     "cellMetadata": {
      "byteLimit": 2048000,
      "implicitDf": true,
      "rowLimit": 10000
     },
     "inputWidgets": {},
     "nuid": "758921a6-0b07-4620-bfa1-ca64b7479da4",
     "showTitle": false,
     "title": ""
    }
   },
   "outputs": [],
   "source": [
    "%sql \n",
    "CREATE TABLE f1_demo.results_external\n",
    "USING DELTA\n",
    "LOCATION '/mnt/formula1ltedl/demo/results_externals'"
   ]
  },
  {
   "cell_type": "code",
   "execution_count": 0,
   "metadata": {
    "application/vnd.databricks.v1+cell": {
     "cellMetadata": {
      "byteLimit": 2048000,
      "rowLimit": 10000
     },
     "inputWidgets": {},
     "nuid": "9dcfc32f-07b5-4499-a12b-fd238fce9475",
     "showTitle": false,
     "title": ""
    }
   },
   "outputs": [],
   "source": [
    "results_external_df=spark.read.format(\"delta\").load(\"/mnt/formula1ltedl/demo/results_externals\")"
   ]
  },
  {
   "cell_type": "code",
   "execution_count": 0,
   "metadata": {
    "application/vnd.databricks.v1+cell": {
     "cellMetadata": {
      "byteLimit": 2048000,
      "rowLimit": 10000
     },
     "inputWidgets": {},
     "nuid": "bab041cf-667f-44bb-9284-71f4a1aed50b",
     "showTitle": false,
     "title": ""
    }
   },
   "outputs": [],
   "source": [
    "result_df.write.format(\"delta\").mode(\"overwrite\").partitionBy(\"constructorId\").saveAsTable(\"f1_demo.results_partitionned\")"
   ]
  },
  {
   "cell_type": "markdown",
   "metadata": {
    "application/vnd.databricks.v1+cell": {
     "cellMetadata": {},
     "inputWidgets": {},
     "nuid": "ea3713b5-9c53-4647-98f6-e1957cdbf75a",
     "showTitle": false,
     "title": ""
    }
   },
   "source": [
    "####\n",
    "1. Update Delta Table\n",
    "2. Delete from Delta Table"
   ]
  },
  {
   "cell_type": "code",
   "execution_count": 0,
   "metadata": {
    "application/vnd.databricks.v1+cell": {
     "cellMetadata": {
      "byteLimit": 2048000,
      "implicitDf": true,
      "rowLimit": 10000
     },
     "inputWidgets": {},
     "nuid": "075a6cc9-4386-4696-8ec3-6f90fc4b87c4",
     "showTitle": false,
     "title": ""
    },
    "jupyter": {
     "outputs_hidden": true
    }
   },
   "outputs": [],
   "source": [
    "%sql\n",
    "select * from f1_demo.results_managed"
   ]
  },
  {
   "cell_type": "code",
   "execution_count": 0,
   "metadata": {
    "application/vnd.databricks.v1+cell": {
     "cellMetadata": {
      "byteLimit": 2048000,
      "implicitDf": true,
      "rowLimit": 10000
     },
     "inputWidgets": {},
     "nuid": "b631fbca-3f64-452e-96bf-445dbf004b68",
     "showTitle": false,
     "title": ""
    },
    "jupyter": {
     "outputs_hidden": true
    }
   },
   "outputs": [],
   "source": [
    "%sql \n",
    "UPDATE f1_demo.results_managed\n",
    "SET points = 11 - position\n",
    "where position<=10"
   ]
  },
  {
   "cell_type": "code",
   "execution_count": 0,
   "metadata": {
    "application/vnd.databricks.v1+cell": {
     "cellMetadata": {
      "byteLimit": 2048000,
      "rowLimit": 10000
     },
     "inputWidgets": {},
     "nuid": "1f714910-fe1f-4f86-b56a-0c016389fb92",
     "showTitle": false,
     "title": ""
    }
   },
   "outputs": [],
   "source": [
    "from delta.tables import DeltaTable\n",
    "\n",
    "deltaTable = DeltaTable.forPath(spark, \"/mnt/formula1ltedl/demo/results_managed\")\n",
    "deltaTable.update(\"position <= 10\" , {\"points\": \"21 - position\"})\n"
   ]
  },
  {
   "cell_type": "code",
   "execution_count": 0,
   "metadata": {
    "application/vnd.databricks.v1+cell": {
     "cellMetadata": {
      "byteLimit": 2048000,
      "rowLimit": 10000
     },
     "inputWidgets": {},
     "nuid": "efb44f6d-0678-4c5f-81c9-576d90362a76",
     "showTitle": false,
     "title": ""
    }
   },
   "outputs": [],
   "source": [
    "from delta.tables import DeltaTable\n",
    "\n",
    "deltaTable = DeltaTable.forPath(spark, \"/mnt/formula1ltedl/demo/results_managed\")\n",
    "deltaTable.delete(\"position > 10\")"
   ]
  },
  {
   "cell_type": "code",
   "execution_count": 0,
   "metadata": {
    "application/vnd.databricks.v1+cell": {
     "cellMetadata": {
      "byteLimit": 2048000,
      "rowLimit": 10000
     },
     "inputWidgets": {},
     "nuid": "74ebd267-7585-40b0-927c-3192310da1fc",
     "showTitle": false,
     "title": ""
    }
   },
   "outputs": [],
   "source": [
    "from delta.tables import DeltaTable\n",
    "\n",
    "deltaTable = DeltaTable.forPath(spark, \"/mnt/formula1ltedl/demo/results_managed\")\n",
    "deltaTable.delete(\"points = 0\")"
   ]
  },
  {
   "cell_type": "code",
   "execution_count": 0,
   "metadata": {
    "application/vnd.databricks.v1+cell": {
     "cellMetadata": {
      "byteLimit": 2048000,
      "implicitDf": true,
      "rowLimit": 10000
     },
     "inputWidgets": {},
     "nuid": "462e7d97-2847-4812-866c-07b0f942b2b0",
     "showTitle": false,
     "title": ""
    },
    "jupyter": {
     "outputs_hidden": true
    }
   },
   "outputs": [],
   "source": [
    "%sql\n",
    "select * from f1_demo.results_managed\n"
   ]
  },
  {
   "cell_type": "markdown",
   "metadata": {
    "application/vnd.databricks.v1+cell": {
     "cellMetadata": {},
     "inputWidgets": {},
     "nuid": "92542c2b-0afc-4b7f-b059-568fcf4863bb",
     "showTitle": false,
     "title": ""
    }
   },
   "source": [
    "#####\n",
    "Upsert Using Merge"
   ]
  },
  {
   "cell_type": "code",
   "execution_count": 0,
   "metadata": {
    "application/vnd.databricks.v1+cell": {
     "cellMetadata": {
      "byteLimit": 2048000,
      "rowLimit": 10000
     },
     "inputWidgets": {},
     "nuid": "af25a095-5eaa-4b25-8d6a-c8178b6ec0fb",
     "showTitle": false,
     "title": ""
    },
    "jupyter": {
     "outputs_hidden": true
    }
   },
   "outputs": [],
   "source": [
    "# Drivers Day 1\n",
    "drivers_day1_df = spark.read \\\n",
    "    .option(\"inferSchema\",  True) \\\n",
    "        .json(\"/mnt/formula1ltedl/raw/2021-03-28/drivers.json\") \\\n",
    "            .filter(\"driverId <= 10\") \\\n",
    "                .select(\"driverId\", \"dob\", \"name.forename\", \"name.surname\")\n",
    "\n",
    "# Drivers Day 2\n",
    "from pyspark.sql.functions import upper\n",
    "drivers_day2_df = spark.read \\\n",
    "    .option(\"inferSchema\",  True) \\\n",
    "        .json(\"/mnt/formula1ltedl/raw/2021-03-28/drivers.json\") \\\n",
    "            .filter(\"driverId Between 6 and 15\") \\\n",
    "                .select(\"driverId\", \"dob\", upper(\"name.forename\").alias(\"forename\"), upper(\"name.surname\").alias(\"surname\"))\n",
    "\n",
    "# Drivers Day 3\n",
    "from pyspark.sql.functions import upper\n",
    "drivers_day3_df = spark.read \\\n",
    "    .option(\"inferSchema\",  True) \\\n",
    "        .json(\"/mnt/formula1ltedl/raw/2021-03-28/drivers.json\") \\\n",
    "            .filter(\"driverId Between 1 and 5 OR driverId Between 16 and 20\") \\\n",
    "                .select(\"driverId\", \"dob\", upper(\"name.forename\").alias(\"forename\"), upper(\"name.surname\").alias(\"surname\"))\n",
    "\n"
   ]
  },
  {
   "cell_type": "code",
   "execution_count": 0,
   "metadata": {
    "application/vnd.databricks.v1+cell": {
     "cellMetadata": {
      "byteLimit": 2048000,
      "rowLimit": 10000
     },
     "inputWidgets": {},
     "nuid": "beffceef-6fa9-4894-a9a1-1dc675644894",
     "showTitle": false,
     "title": ""
    },
    "jupyter": {
     "outputs_hidden": true
    }
   },
   "outputs": [],
   "source": [
    "# Create tempView for the 3 dataframes\n",
    "drivers_day1_df.createOrReplaceTempView(\"drivers_day1\")\n",
    "drivers_day2_df.createOrReplaceTempView(\"drivers_day2\")"
   ]
  },
  {
   "cell_type": "code",
   "execution_count": 0,
   "metadata": {
    "application/vnd.databricks.v1+cell": {
     "cellMetadata": {
      "byteLimit": 2048000,
      "implicitDf": true,
      "rowLimit": 10000
     },
     "inputWidgets": {},
     "nuid": "5298a6fc-0679-4d10-9e1b-31ac2be33a05",
     "showTitle": false,
     "title": ""
    }
   },
   "outputs": [],
   "source": [
    "%sql\n",
    "CREATE TABLE IF NOT EXISTS f1_demo.drivers_merge (\n",
    "driverId INT, \n",
    "dob DATE, \n",
    "forename STRING,\n",
    "surname STRING,\n",
    "createdDate DATE,\n",
    "updatedDate DATE)\n",
    "USING DELTA"
   ]
  },
  {
   "cell_type": "code",
   "execution_count": 0,
   "metadata": {
    "application/vnd.databricks.v1+cell": {
     "cellMetadata": {
      "byteLimit": 2048000,
      "implicitDf": true,
      "rowLimit": 10000
     },
     "collapsed": true,
     "inputWidgets": {},
     "nuid": "ca07c361-b3aa-4d05-80df-1b05d2d368dc",
     "showTitle": false,
     "title": ""
    }
   },
   "outputs": [],
   "source": [
    "%sql\n",
    "/*day1*/\n",
    "MERGE into f1_demo.drivers_merge a\n",
    "USING drivers_day1 b\n",
    "on a.driverId = b.driverId\n",
    "When matched THEN\n",
    "  UPDATE SET a.dob = b.dob,\n",
    "             a.forename =b.forename,\n",
    "             a.surname = b.surname,\n",
    "             a.updatedDate = current_timestamp\n",
    "WHEN NOT MATCHED THEN\n",
    "  Insert (driverId,dob, forename,surname,createdDate) VALUES (driverId,dob, forename,surname,current_timestamp)"
   ]
  },
  {
   "cell_type": "code",
   "execution_count": 0,
   "metadata": {
    "application/vnd.databricks.v1+cell": {
     "cellMetadata": {
      "byteLimit": 2048000,
      "implicitDf": true,
      "rowLimit": 10000
     },
     "inputWidgets": {},
     "nuid": "ded24028-51a5-4669-89a7-5305654f4964",
     "showTitle": false,
     "title": ""
    }
   },
   "outputs": [],
   "source": [
    "%sql\n",
    "/*day2*/\n",
    "MERGE into f1_demo.drivers_merge a\n",
    "USING drivers_day2 b\n",
    "on a.driverId = b.driverId\n",
    "When matched THEN\n",
    "  UPDATE SET a.dob = b.dob,\n",
    "             a.forename =b.forename,\n",
    "             a.surname = b.surname,\n",
    "             a.updatedDate = current_timestamp\n",
    "WHEN NOT MATCHED THEN\n",
    "  Insert (driverId,dob, forename,surname,createdDate) VALUES (driverId,dob, forename,surname,current_timestamp)"
   ]
  },
  {
   "cell_type": "code",
   "execution_count": 0,
   "metadata": {
    "application/vnd.databricks.v1+cell": {
     "cellMetadata": {
      "byteLimit": 2048000,
      "rowLimit": 10000
     },
     "inputWidgets": {},
     "nuid": "d8fd6250-805f-4d41-b6aa-b4c8a8e6d37c",
     "showTitle": false,
     "title": ""
    }
   },
   "outputs": [],
   "source": [
    "#from delta.tables import DeltaTable\n",
    "\n",
    "#deltaTable = DeltaTable.forPath(spark, \"/mnt/formula1ltedl/demo/drivers_merge\")\n",
    "#deltaTable.delete()"
   ]
  },
  {
   "cell_type": "code",
   "execution_count": 0,
   "metadata": {
    "application/vnd.databricks.v1+cell": {
     "cellMetadata": {
      "byteLimit": 2048000,
      "rowLimit": 10000
     },
     "inputWidgets": {},
     "nuid": "2a838f30-66ed-40e6-91e3-c86eea384c75",
     "showTitle": false,
     "title": ""
    }
   },
   "outputs": [],
   "source": [
    "# day 3 merge with pyspark\n",
    "\n",
    "from delta.tables import DeltaTable\n",
    "from pyspark.sql.functions import current_timestamp\n",
    "\n",
    "deltaTable= deltaTable.forPath(spark, \"/mnt/formula1ltedl/demo/drivers_merge\")\n",
    "\n",
    "deltaTable.alias(\"tgt\").merge(drivers_day3_df.alias(\"upd\"), \"tgt.driverId = upd.driverId\") \\\n",
    "        .whenMatchedUpdate(set = {\"dob\": \"upd.dob\", \"forename\": \"upd.forename\", \"surname\": \"upd.surname\", \"updatedDate\": \"current_timestamp()\"}) \\\n",
    "        .whenNotMatchedInsert (values={\n",
    "                \"driverId\": \"upd.driverId\",\n",
    "                \"dob\": \"upd.dob\",\n",
    "                \"forename\": \"upd.forename\",\n",
    "                \"surname\": \"upd.surname\",\n",
    "                \"createdDate\": \"current_timestamp()\"\n",
    "                }\n",
    "                ) \\\n",
    "        .execute()"
   ]
  },
  {
   "cell_type": "markdown",
   "metadata": {
    "application/vnd.databricks.v1+cell": {
     "cellMetadata": {},
     "inputWidgets": {},
     "nuid": "8b56c272-6975-4772-a0a9-a0a9434a46c1",
     "showTitle": false,
     "title": ""
    }
   },
   "source": [
    "1. History & versionning\n",
    "2. Time travel\n",
    "3. Vaccum"
   ]
  },
  {
   "cell_type": "code",
   "execution_count": 0,
   "metadata": {
    "application/vnd.databricks.v1+cell": {
     "cellMetadata": {
      "byteLimit": 2048000,
      "implicitDf": true,
      "rowLimit": 10000
     },
     "inputWidgets": {},
     "nuid": "e4213846-c482-400d-a440-5d18d85f0f6b",
     "showTitle": false,
     "title": ""
    }
   },
   "outputs": [],
   "source": [
    "%sql\n",
    "desc history f1_demo.drivers_merge"
   ]
  },
  {
   "cell_type": "code",
   "execution_count": 0,
   "metadata": {
    "application/vnd.databricks.v1+cell": {
     "cellMetadata": {
      "byteLimit": 2048000,
      "implicitDf": true,
      "rowLimit": 10000
     },
     "inputWidgets": {},
     "nuid": "fb466fba-bd4c-4960-aa06-2032488dd351",
     "showTitle": false,
     "title": ""
    },
    "jupyter": {
     "outputs_hidden": true
    }
   },
   "outputs": [],
   "source": [
    "%sql\n",
    "select * from f1_demo.drivers_merge timestamp as of '2024-06-01T13:49:23.000+00:00';"
   ]
  },
  {
   "cell_type": "code",
   "execution_count": 0,
   "metadata": {
    "application/vnd.databricks.v1+cell": {
     "cellMetadata": {
      "byteLimit": 2048000,
      "rowLimit": 10000
     },
     "inputWidgets": {},
     "nuid": "0b3fc002-0a92-4d50-8d59-5d75e5892596",
     "showTitle": false,
     "title": ""
    }
   },
   "outputs": [],
   "source": [
    "df = spark.read.format(\"delta\").option(\"timestampAsOf\", '2024-06-01T14:08:07.000+00:00').load(\"/mnt/formula1ltedl/demo/drivers_merge\")"
   ]
  },
  {
   "cell_type": "code",
   "execution_count": 0,
   "metadata": {
    "application/vnd.databricks.v1+cell": {
     "cellMetadata": {
      "byteLimit": 2048000,
      "implicitDf": true,
      "rowLimit": 10000
     },
     "inputWidgets": {},
     "nuid": "87eb8da2-7efd-403c-ac14-5de412304a7d",
     "showTitle": false,
     "title": ""
    },
    "jupyter": {
     "outputs_hidden": true
    }
   },
   "outputs": [],
   "source": [
    "%sql\n",
    "SET spark.databricks.delta.retentionDurationCheck.enabled = false;\n",
    "VACUUM f1_demo.drivers_merge RETAIN 0 HOURS"
   ]
  },
  {
   "cell_type": "code",
   "execution_count": 0,
   "metadata": {
    "application/vnd.databricks.v1+cell": {
     "cellMetadata": {
      "byteLimit": 2048000,
      "implicitDf": true,
      "rowLimit": 10000
     },
     "inputWidgets": {},
     "nuid": "c6d74135-02dd-4b2f-95f8-1da41d08060e",
     "showTitle": false,
     "title": ""
    }
   },
   "outputs": [],
   "source": [
    "%sql\n",
    "delete from f1_demo.drivers_merge where driverId=1;"
   ]
  },
  {
   "cell_type": "code",
   "execution_count": 0,
   "metadata": {
    "application/vnd.databricks.v1+cell": {
     "cellMetadata": {
      "byteLimit": 2048000,
      "implicitDf": true,
      "rowLimit": 10000
     },
     "inputWidgets": {},
     "nuid": "70175bb1-d6c5-48b2-9af0-ae9cc9e061a9",
     "showTitle": false,
     "title": ""
    },
    "jupyter": {
     "outputs_hidden": true
    }
   },
   "outputs": [],
   "source": [
    "%sql\n",
    "desc history f1_demo.drivers_merge"
   ]
  },
  {
   "cell_type": "code",
   "execution_count": 0,
   "metadata": {
    "application/vnd.databricks.v1+cell": {
     "cellMetadata": {
      "byteLimit": 2048000,
      "implicitDf": true,
      "rowLimit": 10000
     },
     "inputWidgets": {},
     "nuid": "cd2a3cc6-b89c-486c-a1cc-a7d62a12498c",
     "showTitle": false,
     "title": ""
    },
    "jupyter": {
     "outputs_hidden": true
    }
   },
   "outputs": [],
   "source": [
    "%sql\n",
    "select * from  f1_demo.drivers_merge version as of 10;"
   ]
  },
  {
   "cell_type": "code",
   "execution_count": 0,
   "metadata": {
    "application/vnd.databricks.v1+cell": {
     "cellMetadata": {
      "byteLimit": 2048000,
      "implicitDf": true,
      "rowLimit": 10000
     },
     "inputWidgets": {},
     "nuid": "56cb0903-16f0-4a0c-b9dd-3a76435bc235",
     "showTitle": false,
     "title": ""
    }
   },
   "outputs": [],
   "source": [
    "%sql\n",
    "merge into f1_demo.drivers_merge as a using f1_demo.drivers_merge version as of 10 b on (a.driverId=b.driverId)\n",
    "when not matched then \n",
    "insert *"
   ]
  },
  {
   "cell_type": "markdown",
   "metadata": {
    "application/vnd.databricks.v1+cell": {
     "cellMetadata": {},
     "inputWidgets": {},
     "nuid": "c2621e9b-aff6-4aa8-b6b4-72992119c8d9",
     "showTitle": false,
     "title": ""
    }
   },
   "source": [
    "#### DeltaLake Transaction Log"
   ]
  },
  {
   "cell_type": "code",
   "execution_count": 0,
   "metadata": {
    "application/vnd.databricks.v1+cell": {
     "cellMetadata": {
      "byteLimit": 2048000,
      "implicitDf": true,
      "rowLimit": 10000
     },
     "inputWidgets": {},
     "nuid": "a7e30fef-8da1-4be2-bf09-01a5818fc690",
     "showTitle": false,
     "title": ""
    }
   },
   "outputs": [],
   "source": [
    "%sql\n",
    "CREATE TABLE IF NOT EXISTS f1_demo.drivers_txn (\n",
    "driverId INT, \n",
    "dob DATE, \n",
    "forename STRING,\n",
    "surname STRING,\n",
    "createdDate DATE,\n",
    "updatedDate DATE)\n",
    "USING DELTA"
   ]
  },
  {
   "cell_type": "code",
   "execution_count": 0,
   "metadata": {
    "application/vnd.databricks.v1+cell": {
     "cellMetadata": {
      "byteLimit": 2048000,
      "implicitDf": true,
      "rowLimit": 10000
     },
     "inputWidgets": {},
     "nuid": "87c770db-cbc1-46fb-ba41-be7162c1a7f7",
     "showTitle": false,
     "title": ""
    }
   },
   "outputs": [],
   "source": [
    "%sql\n",
    "desc history f1_demo.drivers_txn"
   ]
  },
  {
   "cell_type": "code",
   "execution_count": 0,
   "metadata": {
    "application/vnd.databricks.v1+cell": {
     "cellMetadata": {
      "byteLimit": 2048000,
      "implicitDf": true,
      "rowLimit": 10000
     },
     "inputWidgets": {},
     "nuid": "0541865b-2e37-4c69-9e48-e49a49aa757d",
     "showTitle": false,
     "title": ""
    }
   },
   "outputs": [],
   "source": [
    "%sql\n",
    "insert into f1_demo.drivers_txn\n",
    "select * from f1_demo.drivers_merge\n",
    "where driverId=2;"
   ]
  },
  {
   "cell_type": "code",
   "execution_count": 0,
   "metadata": {
    "application/vnd.databricks.v1+cell": {
     "cellMetadata": {
      "byteLimit": 2048000,
      "implicitDf": true,
      "rowLimit": 10000
     },
     "inputWidgets": {},
     "nuid": "99b5d218-5ee8-40b2-bb10-a5f5235f2575",
     "showTitle": false,
     "title": ""
    }
   },
   "outputs": [],
   "source": [
    "%sql\n",
    "delete from f1_demo.drivers_txn\n",
    "where driverId=1;"
   ]
  },
  {
   "cell_type": "code",
   "execution_count": 0,
   "metadata": {
    "application/vnd.databricks.v1+cell": {
     "cellMetadata": {
      "byteLimit": 2048000,
      "rowLimit": 10000
     },
     "inputWidgets": {},
     "nuid": "802e355c-8755-453b-bf24-d045b7cb6a91",
     "showTitle": false,
     "title": ""
    }
   },
   "outputs": [],
   "source": [
    "for driver_id in range(3, 20):\n",
    "    spark.sql(f\"\"\"insert into f1_demo.drivers_txn\n",
    "                  select * from f1_demo.drivers_merge where driverId = {driver_id}\"\"\")"
   ]
  },
  {
   "cell_type": "markdown",
   "metadata": {
    "application/vnd.databricks.v1+cell": {
     "cellMetadata": {},
     "inputWidgets": {},
     "nuid": "5c031b44-ef73-4f01-abb2-0e14257e65c2",
     "showTitle": false,
     "title": ""
    }
   },
   "source": [
    "### Convert Parquet to Delta"
   ]
  },
  {
   "cell_type": "code",
   "execution_count": 0,
   "metadata": {
    "application/vnd.databricks.v1+cell": {
     "cellMetadata": {
      "byteLimit": 2048000,
      "implicitDf": true,
      "rowLimit": 10000
     },
     "inputWidgets": {},
     "nuid": "cfc9fe53-4fd9-4e81-b7ac-9a89b371ebec",
     "showTitle": false,
     "title": ""
    }
   },
   "outputs": [],
   "source": [
    "%sql\n",
    "CREATE TABLE IF NOT EXISTS f1_demo.drivers_convert_to_delta (\n",
    "driverId INT, \n",
    "dob DATE, \n",
    "forename STRING,\n",
    "surname STRING,\n",
    "createdDate DATE,\n",
    "updatedDate DATE)\n",
    "USING PARQUET"
   ]
  },
  {
   "cell_type": "code",
   "execution_count": 0,
   "metadata": {
    "application/vnd.databricks.v1+cell": {
     "cellMetadata": {
      "byteLimit": 2048000,
      "implicitDf": true,
      "rowLimit": 10000
     },
     "inputWidgets": {},
     "nuid": "672fd99d-76fa-499e-a89c-09bbe091550a",
     "showTitle": false,
     "title": ""
    }
   },
   "outputs": [],
   "source": [
    "%sql\n",
    "insert into f1_demo.drivers_convert_to_delta \n",
    "select * from f1_demo.drivers_merge\n",
    ";"
   ]
  },
  {
   "cell_type": "code",
   "execution_count": 0,
   "metadata": {
    "application/vnd.databricks.v1+cell": {
     "cellMetadata": {
      "byteLimit": 2048000,
      "implicitDf": true,
      "rowLimit": 10000
     },
     "inputWidgets": {},
     "nuid": "a1611e42-fb0b-4160-90df-598c07db5d25",
     "showTitle": false,
     "title": ""
    }
   },
   "outputs": [],
   "source": [
    "%sql \n",
    "CONVERT TO DELTA f1_demo.drivers_convert_to_delta "
   ]
  },
  {
   "cell_type": "code",
   "execution_count": 0,
   "metadata": {
    "application/vnd.databricks.v1+cell": {
     "cellMetadata": {
      "byteLimit": 2048000,
      "rowLimit": 10000
     },
     "inputWidgets": {},
     "nuid": "a1cc9be3-1a54-4565-ae98-d809506c8caf",
     "showTitle": false,
     "title": ""
    }
   },
   "outputs": [],
   "source": [
    "df = spark.table(\"f1_demo.drivers_convert_to_delta\")\n",
    "df.write.format(\"parquet\").save(\"/mnt/formula1ltedl/demo/drivers_convert_to_delta_new\")"
   ]
  },
  {
   "cell_type": "code",
   "execution_count": 0,
   "metadata": {
    "application/vnd.databricks.v1+cell": {
     "cellMetadata": {
      "byteLimit": 2048000,
      "implicitDf": true,
      "rowLimit": 10000
     },
     "inputWidgets": {},
     "nuid": "bfd19d74-039c-458c-bf51-63dac46d7cbc",
     "showTitle": false,
     "title": ""
    }
   },
   "outputs": [],
   "source": [
    "%sql \n",
    "CONVERT TO DELTA parquet.`/mnt/formula1ltedl/demo/drivers_convert_to_delta_new`"
   ]
  }
 ],
 "metadata": {
  "application/vnd.databricks.v1+notebook": {
   "dashboards": [],
   "environmentMetadata": null,
   "language": "python",
   "notebookMetadata": {
    "mostRecentlyExecutedCommandWithImplicitDF": {
     "commandId": 2644498369393780,
     "dataframes": [
      "_sqldf"
     ]
    },
    "pythonIndentUnit": 4
   },
   "notebookName": "10.delta_lake_demo (1)",
   "widgets": {}
  }
 },
 "nbformat": 4,
 "nbformat_minor": 0
}
